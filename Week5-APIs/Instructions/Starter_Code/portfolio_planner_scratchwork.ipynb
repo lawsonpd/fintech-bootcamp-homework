{
 "cells": [
  {
   "cell_type": "code",
   "execution_count": null,
   "metadata": {},
   "outputs": [],
   "source": [
    "##### Run the Monte Carlo Simulation\n",
    "monte_carlo = pd.DataFrame(columns=[f'Record {i}' for i in range(number_records+1)])\n",
    "monte_carlo.index.name = 'Simulation #'\n",
    "\n",
    "sims_dict = {}\n",
    "\n",
    "for x in range(number_simulations):\n",
    "    \n",
    "    # YOUR CODE HERE\n",
    "    SPY_sims = [SPY_last_close]\n",
    "    AGG_sims = [AGG_last_close]\n",
    "    \n",
    "    for _ in range(number_records):\n",
    "        SPY_sim = SPY_sims[-1] * (1 + np.random.normal(SPY_mean, SPY_std))\n",
    "        AGG_sim = AGG_sims[-1] * (1 + np.random.normal(AGG_mean, AGG_std))\n",
    "        \n",
    "        SPY_sims.append(SPY_sim)\n",
    "        AGG_sims.append(AGG_sim)\n",
    "        \n",
    "    price_sims = pd.DataFrame({'SPY': SPY_sims, 'AGG': AGG_sims})\n",
    "    \n",
    "    sim_daily_returns = price_sims.pct_change()\n",
    "    \n",
    "    weights = [0.60, 0.40]\n",
    "    \n",
    "    portfolio_daily_returns = sim_daily_returns.dot(weights).fillna(0)\n",
    "    \n",
    "    portfolio_cumulative_returns = (1 + portfolio_daily_returns).cumprod()\n",
    "\n",
    "    monte_carlo.loc[x] = list(portfolio_cumulative_returns)\n",
    "\n",
    "monte_carlo.head()"
   ]
  },
  {
   "cell_type": "code",
   "execution_count": null,
   "metadata": {},
   "outputs": [],
   "source": [
    "## Test stuff\n",
    "\n",
    "# m = monte_carlo2.transpose()\n",
    "\n",
    "# s = m.apply('sum', axis=1)\n",
    "\n",
    "# s[s > 100000]"
   ]
  },
  {
   "cell_type": "code",
   "execution_count": null,
   "metadata": {},
   "outputs": [],
   "source": [
    "## More test stuff\n",
    "\n",
    "# m.apply('mean', axis=1) * 500"
   ]
  }
 ],
 "metadata": {
  "kernelspec": {
   "display_name": "Python (Viz)",
   "language": "python",
   "name": "viz"
  },
  "language_info": {
   "codemirror_mode": {
    "name": "ipython",
    "version": 3
   },
   "file_extension": ".py",
   "mimetype": "text/x-python",
   "name": "python",
   "nbconvert_exporter": "python",
   "pygments_lexer": "ipython3",
   "version": "3.7.7"
  }
 },
 "nbformat": 4,
 "nbformat_minor": 4
}
