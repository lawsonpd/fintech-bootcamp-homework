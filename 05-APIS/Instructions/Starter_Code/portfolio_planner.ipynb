{
 "cells": [
  {
   "cell_type": "code",
   "execution_count": null,
   "metadata": {},
   "outputs": [],
   "source": [
    "import numpy as np\n",
    "import pandas as pd\n",
    "from datetime import datetime, timedelta\n",
    "import matplotlib.pyplot as plt\n",
    "%matplotlib inline"
   ]
  },
  {
   "cell_type": "code",
   "execution_count": null,
   "metadata": {},
   "outputs": [],
   "source": [
    "import os"
   ]
  },
  {
   "cell_type": "code",
   "execution_count": null,
   "metadata": {},
   "outputs": [],
   "source": [
    "np.random.seed(42)"
   ]
  },
  {
   "cell_type": "markdown",
   "metadata": {},
   "source": [
    "# Portfolio Planner\n",
    "\n",
    "In this activity, you will use the iexfinance api to grab historical data for a 60/40 portfolio using `SPY` to represent the stock portion and `AGG` to represent the bonds."
   ]
  },
  {
   "cell_type": "code",
   "execution_count": null,
   "metadata": {},
   "outputs": [],
   "source": [
    "import alpaca_trade_api as tradeapi # Set Alpaca API key and secret\n",
    "alpaca_api_key = os.getenv(\"ALPACA_API_KEY_ID\")\n",
    "alpaca_secret_key = os.getenv(\"ALPACA_SECRET_KEY\") # Initialize the API\n",
    "api = tradeapi.REST(alpaca_api_key, alpaca_secret_key, api_version='v2')"
   ]
  },
  {
   "cell_type": "markdown",
   "metadata": {},
   "source": [
    "# Data Collection\n",
    "\n",
    "In this step, you will need to use the IEX api to fetch closing prices for the `SPY` and `AGG` tickers. Save the results as a pandas DataFrame"
   ]
  },
  {
   "cell_type": "code",
   "execution_count": null,
   "metadata": {},
   "outputs": [],
   "source": [
    "list_of_tickers = [\"SPY\", \"AGG\"]\n",
    "# YOUR CODE HERE\n",
    "start_date = datetime.now().date()\n",
    "end_date = start_date - timedelta(365)\n",
    "\n",
    "prices = api.get_barset(\n",
    "    list_of_tickers,\n",
    "    '1D',\n",
    "    limit=365,\n",
    "    start=start_date,\n",
    "    end=end_date\n",
    ")"
   ]
  },
  {
   "cell_type": "code",
   "execution_count": null,
   "metadata": {},
   "outputs": [],
   "source": [
    "# Create SPY dataframe\n",
    "SPY_prices = prices['SPY'].df\n",
    "\n",
    "# Create AGG dataframe\n",
    "AGG_prices = prices['AGG'].df\n",
    "\n",
    "# Drop unncessary columns and fix index\n",
    "SPY_prices = SPY_prices.drop(columns=['open', 'high', 'low', 'volume'])\n",
    "SPY_prices.index = SPY_prices.index.date\n",
    "\n",
    "AGG_prices = AGG_prices.drop(columns=['open', 'high', 'low', 'volume'])\n",
    "AGG_prices.index = AGG_prices.index.date"
   ]
  },
  {
   "cell_type": "markdown",
   "metadata": {},
   "source": [
    "# Monte Carlo Simulation\n",
    "\n",
    "In this step, you will run Monte Carlo Simulations for your portfolio to model portfolio performance at different retirement ages. \n",
    "\n",
    "Complete the following steps:\n",
    "1. Calculate the daily returns for the SPY and AGG closing prices.\n",
    "2. Calculate volatility for both the SPY and AGG closing prices.\n",
    "3. Find the last day's closing price for both stocks and save those as variables.\n",
    "4. Run a Monte Carlo Simulation of at least 500 iterations and generate at least 30 years of closing prices\n",
    "\n",
    "### HINTS:\n",
    "There are 252 trading days per year, so the number of records to generate for each Monte Carlo run will be 252 days * 30 years"
   ]
  },
  {
   "cell_type": "code",
   "execution_count": null,
   "metadata": {},
   "outputs": [],
   "source": [
    "# Calculate the daily roi for the stocks\n",
    "# YOUR CODE HERE\n",
    "\n",
    "SPY_daily_returns = SPY_prices.pct_change()\n",
    "SPY_daily_returns.dropna(inplace=True)\n",
    "\n",
    "AGG_daily_returns = AGG_prices.pct_change()\n",
    "AGG_daily_returns.dropna(inplace=True)"
   ]
  },
  {
   "cell_type": "code",
   "execution_count": null,
   "metadata": {},
   "outputs": [],
   "source": [
    "# Calculate volatility\n",
    "# YOUR CODE HERE\n",
    "SPY_std = SPY_daily_returns['close'].std()\n",
    "AGG_std = AGG_daily_returns['close'].std()\n",
    "\n",
    "# Also store means\n",
    "SPY_mean = SPY_daily_returns['close'].mean()\n",
    "AGG_mean = AGG_daily_returns['close'].mean()"
   ]
  },
  {
   "cell_type": "code",
   "execution_count": null,
   "metadata": {},
   "outputs": [],
   "source": [
    "# Save the last day's closing price\n",
    "# YOUR CODE HERE\n",
    "SPY_last_close = SPY_prices.iloc[-1]['close']\n",
    "\n",
    "AGG_last_close = AGG_prices.iloc[-1]['close']"
   ]
  },
  {
   "cell_type": "code",
   "execution_count": null,
   "metadata": {},
   "outputs": [],
   "source": [
    "# Setup the Monte Carlo Parameters\n",
    "number_simulations = 500\n",
    "number_records = 252 * 30"
   ]
  },
  {
   "cell_type": "code",
   "execution_count": null,
   "metadata": {},
   "outputs": [],
   "source": [
    "##### Run the Monte Carlo Simulation\n",
    "monte_carlo = pd.DataFrame()\n",
    "monte_carlo.index.name = \"Record\"\n",
    "sims_dict = {}\n",
    "\n",
    "for x in range(number_simulations):\n",
    "    \n",
    "    # YOUR CODE HERE\n",
    "    SPY_sims = [SPY_last_close]\n",
    "    AGG_sims = [AGG_last_close]\n",
    "    \n",
    "    for _ in range(number_records):\n",
    "        SPY_sim = SPY_sims[-1] * (1 + np.random.normal(SPY_mean, SPY_std))\n",
    "        AGG_sim = AGG_sims[-1] * (1 + np.random.normal(AGG_mean, AGG_std))\n",
    "        \n",
    "        SPY_sims.append(SPY_sim)\n",
    "        AGG_sims.append(AGG_sim)\n",
    "        \n",
    "    price_sims = pd.DataFrame({'SPY': SPY_sims, 'AGG': AGG_sims})\n",
    "    \n",
    "    sim_daily_returns = price_sims.pct_change()\n",
    "    \n",
    "    weights = [0.60, 0.40]\n",
    "    \n",
    "    portfolio_daily_returns = sim_daily_returns.dot(weights).fillna(0)\n",
    "    \n",
    "    portfolio_cumulative_returns = (1 + portfolio_daily_returns).cumprod()\n",
    "\n",
    "    monte_carlo[f\"Simulation {x}\"] = portfolio_cumulative_returns\n",
    "\n",
    "monte_carlo.head()"
   ]
  },
  {
   "cell_type": "code",
   "execution_count": null,
   "metadata": {},
   "outputs": [],
   "source": [
    "###### Visualize the Simulation\n",
    "# YOUR CODE HERE\n",
    "monte_carlo.plot(legend=None, title=\"Simulated Retirement Portfolio\", figsize=(12,8))"
   ]
  },
  {
   "cell_type": "code",
   "execution_count": null,
   "metadata": {},
   "outputs": [],
   "source": [
    "# Select the last row for the cumulative returns (cumulative returns at 30 years)\n",
    "# YOUR CODE HERE\n",
    "cumulative_returns_30_years = monte_carlo.iloc[-1]\n",
    "cumulative_returns_30_years.head()"
   ]
  },
  {
   "cell_type": "code",
   "execution_count": null,
   "metadata": {},
   "outputs": [],
   "source": [
    "# Display the 90% confidence interval for the ending returns\n",
    "# YOUR CODE HERE\n",
    "conf_interval = cumulative_returns_30_years.quantile(q=[0.05, 0.95])\n",
    "conf_interval"
   ]
  },
  {
   "cell_type": "code",
   "execution_count": null,
   "metadata": {},
   "outputs": [],
   "source": [
    "# Visualize the distribution of the ending returns\n",
    "# YOUR CODE HERE\n",
    "plt.figure()\n",
    "cumulative_returns_30_years.plot(kind='hist', bins=100)\n",
    "plt.axvline(conf_interval.iloc[0], color='r')\n",
    "plt.axvline(conf_interval.iloc[1], color='r')"
   ]
  },
  {
   "cell_type": "markdown",
   "metadata": {},
   "source": [
    "---"
   ]
  },
  {
   "cell_type": "markdown",
   "metadata": {},
   "source": [
    "# Retirement Analysis\n",
    "\n",
    "In this section, you will use the monte carlo model to answer the following retirement planning questions:\n",
    "\n",
    "1. What are the expected cumulative returns at 30 years for the 10th, 50th, and 90th percentiles?\n",
    "2. Given an initial investment of `$20,000`, what is the expected portfolio return in dollars at the 10th, 50th, and 90th percentiles?\n",
    "3. Given the current projected annual income from the Plaid analysis, will a 4% withdraw rate from the retirement portfolio meet or exceed that value at the 10th percentile?\n",
    "4. How would a 50% increase in the initial investment amount affect the 4% retirement withdrawal?"
   ]
  },
  {
   "cell_type": "markdown",
   "metadata": {},
   "source": [
    "### What are the expected cumulative returns at 30 years for the 10th, 50th, and 90th percentiles?"
   ]
  },
  {
   "cell_type": "code",
   "execution_count": null,
   "metadata": {},
   "outputs": [],
   "source": [
    "# YOUR CODE HERE\n",
    "percentiles = cumulative_returns_30_years.quantile([0.1, 0.5, 0.9])"
   ]
  },
  {
   "cell_type": "markdown",
   "metadata": {},
   "source": [
    "### Given an initial investment of `$20,000`, what is the expected portfolio return in dollars at the 10th, 50th, and 90th percentiles?"
   ]
  },
  {
   "cell_type": "code",
   "execution_count": null,
   "metadata": {},
   "outputs": [],
   "source": [
    "# YOUR CODE HERE\n",
    "initial_investment = 20000\n",
    "\n",
    "portfolio_returns_10th_percentile = initial_investment * percentiles.loc[0.1]\n",
    "\n",
    "portfolio_returns_50th_percentile = initial_investment * percentiles.loc[0.5]\n",
    "\n",
    "portfolio_returns_90th_percentile = initial_investment * percentiles.loc[0.9]"
   ]
  },
  {
   "cell_type": "markdown",
   "metadata": {},
   "source": [
    "### Given the current projected annual income from the Plaid analysis, will a 4% withdraw rate from the retirement portfolio meet or exceed that value at the 10th percentile?\n",
    "\n",
    "Note: This is effectively saying that 90% of the expected returns will be greater than the return at the 10th percentile, so this can help measure the uncertainty about having enough funds at retirement"
   ]
  },
  {
   "cell_type": "code",
   "execution_count": null,
   "metadata": {},
   "outputs": [],
   "source": [
    "# YOUR CODE HERE\n",
    "projected_income = 6085\n",
    "\n",
    "withdraw_rate = 0.04\n",
    "\n",
    "# What's the difference between the 4% withdrawn from the portfolio and \n",
    "# the current project income?\n",
    "(portfolio_returns_10th_percentile * withdraw_rate) - projected_income"
   ]
  },
  {
   "cell_type": "markdown",
   "metadata": {},
   "source": [
    "### How would a 50% increase in the initial investment amount affect the 4% retirement withdrawal?"
   ]
  },
  {
   "cell_type": "code",
   "execution_count": null,
   "metadata": {},
   "outputs": [],
   "source": [
    "# YOUR CODE HERE\n",
    "\n",
    "# 50% larger initial investment\n",
    "larger_investment = initial_investment * 1.5\n",
    "\n",
    "# Returns on larger initial investment\n",
    "returns_from_larger_investment = larger_investment * percentiles.loc[0.1]\n",
    "\n",
    "# Now compare the 4% withdrawn from new investment to the current projected income\n",
    "(returns_from_larger_investment * withdraw_rate) - projected_income"
   ]
  },
  {
   "cell_type": "markdown",
   "metadata": {},
   "source": [
    "### Optional Challenge\n",
    "\n",
    "In this section, you will calculate and plot the cumulative returns for the median and 90% confidence intervals. This plot shows the expected cumulative returns for any given day between the first day and the last day of investment. "
   ]
  },
  {
   "cell_type": "code",
   "execution_count": null,
   "metadata": {},
   "outputs": [],
   "source": [
    "# YOUR CODE HERE"
   ]
  }
 ],
 "metadata": {
  "kernel_info": {
   "name": "dev"
  },
  "kernelspec": {
   "display_name": "Python (Viz)",
   "language": "python",
   "name": "viz"
  },
  "language_info": {
   "codemirror_mode": {
    "name": "ipython",
    "version": 3
   },
   "file_extension": ".py",
   "mimetype": "text/x-python",
   "name": "python",
   "nbconvert_exporter": "python",
   "pygments_lexer": "ipython3",
   "version": "3.7.7"
  },
  "nteract": {
   "version": "0.12.3"
  }
 },
 "nbformat": 4,
 "nbformat_minor": 4
}
