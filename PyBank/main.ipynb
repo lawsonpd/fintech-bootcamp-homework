{
 "cells": [
  {
   "cell_type": "code",
   "execution_count": 4,
   "metadata": {},
   "outputs": [],
   "source": [
    "from operator import itemgetter\n",
    "import csv\n",
    "from pathlib import Path"
   ]
  },
  {
   "cell_type": "code",
   "execution_count": 5,
   "metadata": {},
   "outputs": [],
   "source": [
    "budget_data = {}"
   ]
  },
  {
   "cell_type": "code",
   "execution_count": 7,
   "metadata": {},
   "outputs": [],
   "source": [
    "budget_path = Path('../budget_data.csv')\n",
    "\n",
    "with open(budget_path) as budgetcsv:\n",
    "    budget_reader = csv.reader(budgetcsv)\n",
    "    budget_header = next(budget_reader)\n",
    "    for row in budget_reader:\n",
    "        budget_data[row[0]] = int(row[1])"
   ]
  },
  {
   "cell_type": "code",
   "execution_count": 8,
   "metadata": {},
   "outputs": [],
   "source": [
    "total_months = len(budget_data)\n",
    "\n",
    "total = sum(budget_data.values())\n",
    "\n",
    "avg_change = round(total / total_months, 2)\n",
    "\n",
    "profitable_days = {k:v for k,v in budget_data.items() if v > 0}\n",
    "greatest_increase_profits = max(profitable_days.items(), key=itemgetter(1))\n",
    "\n",
    "unprofitable_days = {k:v for k,v in budget_data.items() if v <= 0}\n",
    "greatest_decrease_profits = min(unprofitable_days.items(), key=itemgetter(1))"
   ]
  },
  {
   "cell_type": "code",
   "execution_count": null,
   "metadata": {},
   "outputs": [],
   "source": [
    "if __name__ == '__main__':\n",
    "    with open('financial_analysis.txt', 'w') as f:\n",
    "        print('Financial Analysis', file=f)\n",
    "        print('------------------', file=f)\n",
    "        print('Total months:', total_months, file=f)\n",
    "        print(f'Total: ${total}', file=f)\n",
    "        print(f'Average change: ${avg_change}', file=f)\n",
    "        print(f'Greatest Increase in Profits: {greatest_increase_profits[0]} (${greatest_increase_profits[1]})', file=f)\n",
    "        print(f'Greatest Decrease in Profits: {greatest_decrease_profits[0]} (${greatest_decrease_profits[1]})', file=f)\n",
    "    print('Financial Analysis')\n",
    "    print('------------------')\n",
    "    print('Total months:', total_months)\n",
    "    print(f'Total: ${total}')\n",
    "    print(f'Average change: ${avg_change}')\n",
    "    print(f'Greatest Increase in Profits: {greatest_increase_profits[0]} (${greatest_increase_profits[1]})')\n",
    "    print(f'Greatest Decrease in Profits: {greatest_decrease_profits[0]} (${greatest_decrease_profits[1]})')\n"
   ]
  }
 ],
 "metadata": {
  "kernelspec": {
   "display_name": "Python 3",
   "language": "python",
   "name": "python3"
  },
  "language_info": {
   "codemirror_mode": {
    "name": "ipython",
    "version": 3
   },
   "file_extension": ".py",
   "mimetype": "text/x-python",
   "name": "python",
   "nbconvert_exporter": "python",
   "pygments_lexer": "ipython3",
   "version": "3.7.6"
  }
 },
 "nbformat": 4,
 "nbformat_minor": 4
}
