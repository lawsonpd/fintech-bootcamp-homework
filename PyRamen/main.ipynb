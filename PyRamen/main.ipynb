{
 "cells": [
  {
   "cell_type": "code",
   "execution_count": 25,
   "metadata": {},
   "outputs": [],
   "source": [
    "# @TODO: Import libraries\n",
    "import csv\n",
    "from pathlib import Path"
   ]
  },
  {
   "cell_type": "code",
   "execution_count": 26,
   "metadata": {},
   "outputs": [],
   "source": [
    "# @TODO: Set file paths for menu_data.csv and sales_data.csv\n",
    "menu_filepath = Path('./menu_data.csv')\n",
    "sales_filepath = Path('./sales_data.csv')"
   ]
  },
  {
   "cell_type": "code",
   "execution_count": 27,
   "metadata": {},
   "outputs": [],
   "source": [
    "# @TODO: Initialize list objects to hold our menu and sales data\n",
    "menu = []\n",
    "sales = []"
   ]
  },
  {
   "cell_type": "code",
   "execution_count": 28,
   "metadata": {},
   "outputs": [],
   "source": [
    "# @TODO: Read in the menu data into the menu list\n",
    "with open(menu_filepath) as csvfile:\n",
    "    menu_reader = csv.reader(csvfile)\n",
    "    header = next(menu_reader)\n",
    "    for row in menu_reader:\n",
    "        menu.append(row)"
   ]
  },
  {
   "cell_type": "code",
   "execution_count": 29,
   "metadata": {},
   "outputs": [],
   "source": [
    "with open(sales_filepath) as csvfile:\n",
    "    sales_reader = csv.reader(csvfile)\n",
    "    header = next(sales_reader)\n",
    "    sales.append(header)\n",
    "    for row in sales_reader:\n",
    "        sales.append(row)"
   ]
  },
  {
   "cell_type": "code",
   "execution_count": 32,
   "metadata": {},
   "outputs": [],
   "source": [
    "report = {}"
   ]
  },
  {
   "cell_type": "code",
   "execution_count": 33,
   "metadata": {},
   "outputs": [
    {
     "data": {
      "text/plain": [
       "[['Line_Item_ID', 'Date', 'Credit_Card_Number', 'Quantity', 'Menu_Item'],\n",
       " ['1', '01-01-2017', '7437926611570799', '1', 'spicy miso ramen'],\n",
       " ['2', '01-01-2017', '7437926611570799', '1', 'spicy miso ramen'],\n",
       " ['3', '01-01-2017', '8421920068932819', '3', 'tori paitan ramen'],\n",
       " ['4', '01-01-2017', '8421920068932819', '3', 'tori paitan ramen'],\n",
       " ['5', '01-01-2017', '4787310681569648', '1', 'truffle butter ramen'],\n",
       " ['6', '01-01-2017', '4787310681569648', '1', 'truffle butter ramen'],\n",
       " ['7', '01-01-2017', '8252818705821725', '1', 'tonkotsu ramen'],\n",
       " ['8', '01-01-2017', '8252818705821725', '1', 'tonkotsu ramen'],\n",
       " ['9', '01-01-2017', '3119034881407323', '1', 'vegetarian spicy miso']]"
      ]
     },
     "execution_count": 33,
     "metadata": {},
     "output_type": "execute_result"
    }
   ],
   "source": [
    "sales[:10]"
   ]
  },
  {
   "cell_type": "code",
   "execution_count": null,
   "metadata": {},
   "outputs": [],
   "source": []
  }
 ],
 "metadata": {
  "kernelspec": {
   "display_name": "Python 3",
   "language": "python",
   "name": "python3"
  },
  "language_info": {
   "codemirror_mode": {
    "name": "ipython",
    "version": 3
   },
   "file_extension": ".py",
   "mimetype": "text/x-python",
   "name": "python",
   "nbconvert_exporter": "python",
   "pygments_lexer": "ipython3",
   "version": "3.7.6"
  }
 },
 "nbformat": 4,
 "nbformat_minor": 4
}
