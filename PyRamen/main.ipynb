{
 "cells": [
  {
   "cell_type": "code",
   "execution_count": 41,
   "metadata": {},
   "outputs": [],
   "source": [
    "# @TODO: Import libraries\n",
    "import csv\n",
    "from pathlib import Path"
   ]
  },
  {
   "cell_type": "code",
   "execution_count": 42,
   "metadata": {},
   "outputs": [],
   "source": [
    "# @TODO: Set file paths for menu_data.csv and sales_data.csv\n",
    "menu_filepath = Path('./menu_data.csv')\n",
    "sales_filepath = Path('./sales_data.csv')"
   ]
  },
  {
   "cell_type": "code",
   "execution_count": 43,
   "metadata": {},
   "outputs": [],
   "source": [
    "# @TODO: Initialize list objects to hold our menu and sales data\n",
    "menu = {}\n",
    "sales = []"
   ]
  },
  {
   "cell_type": "code",
   "execution_count": 45,
   "metadata": {},
   "outputs": [],
   "source": [
    "# @TODO: Read in the menu data into the menu list\n",
    "with open(menu_filepath) as csvfile:\n",
    "    menu_reader = csv.reader(csvfile)\n",
    "    next(menu_reader)\n",
    "    for row in menu_reader:\n",
    "        menu[row[0]] = {'price': float(row[3]), 'cost': float(row[4])}"
   ]
  },
  {
   "cell_type": "code",
   "execution_count": 46,
   "metadata": {},
   "outputs": [],
   "source": [
    "# Read\n",
    "with open(sales_filepath) as csvfile:\n",
    "    sales_reader = csv.reader(csvfile)\n",
    "    next(sales_reader)\n",
    "    for row in sales_reader:\n",
    "        sales.append(row)"
   ]
  },
  {
   "cell_type": "code",
   "execution_count": 47,
   "metadata": {},
   "outputs": [],
   "source": [
    "report = {}"
   ]
  },
  {
   "cell_type": "code",
   "execution_count": 48,
   "metadata": {},
   "outputs": [],
   "source": [
    "'''\n",
    "I tried first using the code in the next cell down, but it locked up my computer (see comment below).\n",
    "Instead of putting the menu data in a list and iterating over it for each item in the sales data,\n",
    "I put it in a dictionary with keys for 'price' and 'cost' (see `menu_dict` above). Dictionary lookups\n",
    "are faster than iterating over a list, so I figured this would be better than the solution that\n",
    "was locking up my computer.\n",
    "'''\n",
    "\n",
    "for sales_row in sales:\n",
    "    quantity = int(sales_row[3])\n",
    "    sales_item = sales_row[4]\n",
    "    \n",
    "    if sales_item not in report:\n",
    "        report[sales_item] = {\n",
    "            \"01-count\": 0,\n",
    "            \"02-revenue\": 0,\n",
    "            \"03-cogs\": 0,\n",
    "            \"04-profit\": 0,\n",
    "        }\n",
    "        \n",
    "    if sales_item in menu_dict:\n",
    "        price = menu_dict[sales_item]['price']\n",
    "        cost = menu_dict[sales_item]['cost']\n",
    "        profit = price - cost\n",
    "\n",
    "        report[sales_item][\"01-count\"] += quantity\n",
    "        report[sales_item][\"02-revenue\"] += price * quantity\n",
    "        report[sales_item][\"03-cogs\"] += cost * quantity\n",
    "        report[sales_item][\"04-profit\"] += profit * quantity\n",
    "    else:\n",
    "        print(f\"{sales_item} not in menu data!\")\n"
   ]
  },
  {
   "cell_type": "code",
   "execution_count": 28,
   "metadata": {},
   "outputs": [],
   "source": [
    "'''\n",
    "The following code completely locked up my computer when I ran it. I don't see exactly what \n",
    "the problem is, since both for-loops are guaranteed to end and there's no recursion \n",
    "or infinite cycles as far as I can tell.\n",
    "'''\n",
    "\n",
    "# for sales_row in sales:\n",
    "#     quantity = int(sales_row[3])\n",
    "#     sales_item = sales_row[4]\n",
    "    \n",
    "#     if sales_item not in report:\n",
    "#         report[sales_item] = {\n",
    "#             \"01-count\": 0,\n",
    "#             \"02-revenue\": 0,\n",
    "#             \"03-cogs\": 0,\n",
    "#             \"04-profit\": 0,\n",
    "#         }\n",
    "        \n",
    "#     for menu_item in menu:\n",
    "#         item = menu_item[0]\n",
    "#         price = float(menu_item[3])\n",
    "#         cost = float(menu_item[4])\n",
    "\n",
    "#         profit = price - cost\n",
    "\n",
    "#         if not report.get(item):\n",
    "#             print(f\"{sales_item} does not equal {item}! NO MATCH!\")\n",
    "#         else:\n",
    "#             report[item][\"01-count\"] += quantity\n",
    "#             report[item][\"02-revenue\"] += price * quantity\n",
    "#             report[item][\"03-cogs\"] += cost * quantity\n",
    "#             report[item][\"04-profit\"] += profit * quantity\n"
   ]
  },
  {
   "cell_type": "code",
   "execution_count": 53,
   "metadata": {},
   "outputs": [],
   "source": [
    "report_path = Path('./report.txt')\n",
    "with open(report_path, 'w') as report_file:\n",
    "    for item in report.keys():\n",
    "        print(f\"{item} {report[item]}\", file=report_file)"
   ]
  }
 ],
 "metadata": {
  "kernelspec": {
   "display_name": "Python 3",
   "language": "python",
   "name": "python3"
  },
  "language_info": {
   "codemirror_mode": {
    "name": "ipython",
    "version": 3
   },
   "file_extension": ".py",
   "mimetype": "text/x-python",
   "name": "python",
   "nbconvert_exporter": "python",
   "pygments_lexer": "ipython3",
   "version": "3.7.6"
  }
 },
 "nbformat": 4,
 "nbformat_minor": 4
}
